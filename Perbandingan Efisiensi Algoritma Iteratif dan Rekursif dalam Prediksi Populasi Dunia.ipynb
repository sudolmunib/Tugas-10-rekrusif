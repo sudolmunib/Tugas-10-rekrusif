{
  "cells": [
    {
      "cell_type": "markdown",
      "metadata": {
        "id": "qz8u6x6CZ22i"
      },
      "source": [
        "Laporan Analisis Efisiensi Algoritma: Prediksi Populasi Dunia 1960-2018\n",
        "\n",
        "Judul:\n",
        "Prediksi Populasi Dunia 1960-2018 Menggunakan Algoritma Iteratif dan Rekursif\n",
        "\n",
        "Nama Anggota:\n",
        "\n",
        "Abdul Munib (231110004)\n",
        "\n",
        "1. Deskripsi Studi Kasus\n",
        "\n",
        "Studi kasus ini bertujuan untuk memprediksi populasi dunia dari tahun 1960 hingga 2018 berdasarkan data populasi historis dan asumsi laju pertumbuhan tahunan sebesar 1,3%. Pendekatan ini relevan untuk memahami pola pertumbuhan populasi secara global dan membandingkan efisiensi antara algoritma iteratif dan rekursif.\n",
        "\n",
        "2. Deskripsi Algoritma\n",
        "\n",
        "2.1 Algoritma Iteratif\n",
        "\n",
        "Algoritma iteratif menggunakan pendekatan berbasis loop untuk menghitung populasi setiap tahun. Proses dimulai dari populasi awal dan diperbarui untuk setiap iterasi menggunakan formula:\n",
        "\n",
        "Kelebihan:\n",
        "\n",
        "Efisien dalam memori karena tidak menggunakan stack rekursi.\n",
        "\n",
        "Cocok untuk ukuran masukan besar.\n",
        "\n",
        "Kekurangan:\n",
        "\n",
        "Implementasi sedikit lebih kompleks dibandingkan rekursif.\n",
        "\n",
        "2.2 Algoritma Rekursif\n",
        "\n",
        "Algoritma rekursif memanfaatkan fungsi yang memanggil dirinya sendiri hingga mencapai kondisi dasar. Formula yang digunakan sama, tetapi populasi dihitung mundur dari tahun target hingga kondisi awal tercapai.\n",
        "\n",
        "Kelebihan:\n",
        "\n",
        "Logika lebih sederhana dan mudah dipahami.\n",
        "\n",
        "Kekurangan:\n",
        "\n",
        "Menggunakan lebih banyak memori karena menyimpan stack rekursi.\n",
        "\n",
        "Tidak cocok untuk ukuran masukan besar karena batas rekursi Python."
      ]
    },
    {
      "cell_type": "code",
      "execution_count": 6,
      "metadata": {
        "colab": {
          "base_uri": "https://localhost:8080/"
        },
        "id": "hrj7whBVTIqU",
        "outputId": "670e89df-2664-48c4-856b-a24ddd36983e"
      },
      "outputs": [
        {
          "name": "stdout",
          "output_type": "stream",
          "text": [
            "Kolom yang tersedia: Index(['Country (or dependency)', 'Population (2020)', 'Yearly Change %',\n",
            "       'Net Change', 'Density (P/Km²)', 'Land Area (Km²)', 'Migrants (net)',\n",
            "       'Fert. Rate', 'Med. Age', 'Urban Pop %', 'World Share %'],\n",
            "      dtype='object')\n"
          ]
        }
      ],
      "source": [
        "# Langkah 1: Membaca Data Populasi\n",
        "import pandas as pd\n",
        "\n",
        "# Membaca file CSV\n",
        "file_path = \"pop_worldometer_data.csv\"\n",
        "data = pd.read_csv(file_path)\n",
        "\n",
        "# Menampilkan kolom yang tersedia untuk memastikan nama kolom\n",
        "print(\"Kolom yang tersedia:\", data.columns)\n",
        "\n",
        "# Memfilter negara dengan populasi di atas 50 juta\n",
        "filtered_data = data[data['Population (2020)'] > 50_000_000]\n",
        "populations = filtered_data['Population (2020)'].tolist()\n"
      ]
    },
    {
      "cell_type": "code",
      "execution_count": 7,
      "metadata": {
        "id": "W1QLdJIKTQii"
      },
      "outputs": [],
      "source": [
        "# Langkah 2: Implementasi Algoritma Iteratif\n",
        "def average_iterative(values):\n",
        "    total = 0\n",
        "    count = 0\n",
        "    for value in values:\n",
        "        total += value\n",
        "        count += 1\n",
        "    return total / count if count > 0 else 0\n"
      ]
    },
    {
      "cell_type": "code",
      "execution_count": 8,
      "metadata": {
        "id": "wnHu7dV1TWBk"
      },
      "outputs": [],
      "source": [
        "# Langkah 3: Implementasi Algoritma Rekursif\n",
        "def average_recursive(values, total=0, count=0):\n",
        "    if not values:\n",
        "        return total / count if count > 0 else 0\n",
        "    return average_recursive(values[1:], total + values[0], count + 1)\n"
      ]
    },
    {
      "cell_type": "code",
      "execution_count": 9,
      "metadata": {
        "id": "s48U08y9TcrO"
      },
      "outputs": [],
      "source": []
    },
    {
      "cell_type": "code",
      "execution_count": 10,
      "metadata": {
        "id": "TYGq4uZnThYp"
      },
      "outputs": [],
      "source": [
        "# Langkah 5: Mengukur Runtime Kedua Algoritma\n",
        "iterative_time, iterative_result = measure_runtime(average_iterative, populations)\n",
        "recursive_time, recursive_result = measure_runtime(average_recursive, populations)\n"
      ]
    },
    {
      "cell_type": "code",
      "execution_count": 11,
      "metadata": {
        "colab": {
          "base_uri": "https://localhost:8080/",
          "height": 468
        },
        "id": "2f0LlZJpTjyQ",
        "outputId": "8959e1c9-8083-4c01-ee24-c574ef5f316d"
      },
      "outputs": [
        {
          "data": {
            "image/png": "[encoded data removed]",
            "text/plain": [
              "<Figure size 800x500 with 1 Axes>"
            ]
          },
          "metadata": {},
          "output_type": "display_data"
        }
      ],
      "source": [
        "# Langkah 6: Visualisasi Hasil\n",
        "plt.figure(figsize=(8, 5))\n",
        "methods = [\"Iteratif\", \"Rekursif\"]\n",
        "runtimes = [iterative_time, recursive_time]\n",
        "\n",
        "plt.bar(methods, runtimes, color=['blue', 'green'])\n",
        "plt.title(\"Perbandingan Waktu Eksekusi\")\n",
        "plt.ylabel(\"Waktu Eksekusi (detik)\")\n",
        "plt.show()\n"
      ]
    },
    {
      "cell_type": "code",
      "execution_count": 12,
      "metadata": {
        "colab": {
          "base_uri": "https://localhost:8080/",
          "height": 104
        },
        "id": "G9lCollCTsNU",
        "outputId": "a37b5044-80d5-4cd3-8fda-5b127d1b76a7"
      },
      "outputs": [
        {
          "name": "stdout",
          "output_type": "stream",
          "text": [
            "Rata-rata populasi (Iteratif): 206488663.72413793\n",
            "Rata-rata populasi (Rekursif): 206488663.72413793\n"
          ]
        },
        {
          "data": {
            "application/vnd.google.colaboratory.intrinsic+json": {
              "type": "string"
            },
            "text/plain": [
              "'\\nBerdasarkan hasil:\\n1. Algoritma iteratif biasanya memiliki runtime yang lebih cepat karena overhead rekursif.\\n2. Algoritma rekursif dapat memberikan hasil yang sama tetapi memiliki batasan pada input yang sangat besar.\\n'"
            ]
          },
          "execution_count": 12,
          "metadata": {},
          "output_type": "execute_result"
        }
      ],
      "source": [
        "# Langkah 7: Analisis Hasil\n",
        "print(f\"Rata-rata populasi (Iteratif): {iterative_result}\")\n",
        "print(f\"Rata-rata populasi (Rekursif): {recursive_result}\")\n",
        "\n",
        "\"\"\"\n",
        "Berdasarkan hasil:\n",
        "1. Algoritma iteratif biasanya memiliki runtime yang lebih cepat karena overhead rekursif.\n",
        "2. Algoritma rekursif dapat memberikan hasil yang sama tetapi memiliki batasan pada input yang sangat besar.\n",
        "\"\"\"\n"
      ]
    },
    {
      "cell_type": "code",
      "execution_count": 18,
      "metadata": {
        "colab": {
          "base_uri": "https://localhost:8080/",
          "height": 798
        },
        "id": "Bfr3DVTHT9I6",
        "outputId": "08b62fe1-07c5-4ae4-bb37-aced6e08e5e2"
      },
      "outputs": [
        {
          "name": "stdout",
          "output_type": "stream",
          "text": [
            "Selamat datang di aplikasi perbandingan waktu eksekusi iteratif vs rekursif!\n",
            "Ketikan 'exit' untuk keluar dari program.\n",
            "\n",
            "Masukkan data populasi negara (pisahkan dengan koma):\n",
            "Data populasi: 1000000000, 500000000, 200000000, 150000000, 300000000\n",
            "\n",
            "Menghitung rata-rata menggunakan metode iteratif...\n",
            "Hasil iteratif: 430000000.00, Waktu eksekusi: 0.000005 detik\n",
            "\n",
            "Menghitung rata-rata menggunakan metode rekursif...\n",
            "Hasil rekursif: 430000000.00, Waktu eksekusi: 0.000012 detik\n",
            "\n",
            "Menampilkan perbandingan waktu eksekusi...\n"
          ]
        },
        {
          "data": {
            "image/png": "[encoded data removed]",
            "text/plain": [
              "<Figure size 800x500 with 1 Axes>"
            ]
          },
          "metadata": {},
          "output_type": "display_data"
        },
        {
          "name": "stdout",
          "output_type": "stream",
          "text": [
            "Selamat datang di aplikasi perbandingan waktu eksekusi iteratif vs rekursif!\n",
            "Ketikan 'exit' untuk keluar dari program.\n",
            "\n",
            "Masukkan data populasi negara (pisahkan dengan koma):\n",
            "Data populasi: exit\n",
            "Terima kasih telah menggunakan aplikasi ini.\n"
          ]
        }
      ],
      "source": [
        "import matplotlib.pyplot as plt\n",
        "import time\n",
        "\n",
        "# Fungsi untuk mengukur runtime (simulasi sederhana)\n",
        "def measure_runtime(func, data):\n",
        "    start_time = time.time()\n",
        "    result = func(data)\n",
        "    end_time = time.time()\n",
        "    runtime = end_time - start_time\n",
        "    return runtime, result\n",
        "\n",
        "# Fungsi iteratif sederhana (contoh: menghitung rata-rata populasi)\n",
        "def average_iterative(data):\n",
        "    total = 0\n",
        "    for value in data:\n",
        "        total += value\n",
        "    return total / len(data) if len(data) > 0 else 0\n",
        "\n",
        "# Fungsi rekursif sederhana (contoh: menghitung rata-rata populasi)\n",
        "def average_recursive(data, index=0, total=0):\n",
        "    if index == len(data):\n",
        "        return total / len(data) if len(data) > 0 else 0\n",
        "    return average_recursive(data, index + 1, total + data[index])\n",
        "\n",
        "# Input pengguna untuk populasi\n",
        "def main():\n",
        "    while True:\n",
        "        print(\"Selamat datang di aplikasi perbandingan waktu eksekusi iteratif vs rekursif!\")\n",
        "        print(\"Ketikan 'exit' untuk keluar dari program.\")\n",
        "\n",
        "        # Input data populasi secara manual\n",
        "        print(\"\\nMasukkan data populasi negara (pisahkan dengan koma):\")\n",
        "        input_data = input(\"Data populasi: \")\n",
        "\n",
        "        if input_data.lower() == \"exit\":\n",
        "            print(\"Terima kasih telah menggunakan aplikasi ini.\")\n",
        "            break\n",
        "\n",
        "        try:\n",
        "            populations = [float(value.strip()) for value in input_data.split(\",\")]\n",
        "        except ValueError:\n",
        "            print(\"Input tidak valid! Harap masukkan angka yang dipisahkan dengan koma.\")\n",
        "            continue\n",
        "\n",
        "        # Hitung waktu eksekusi dan hasil dengan fungsi iteratif\n",
        "        print(\"\\nMenghitung rata-rata menggunakan metode iteratif...\")\n",
        "        iterative_time, iterative_result = measure_runtime(average_iterative, populations)\n",
        "        print(f\"Hasil iteratif: {iterative_result:.2f}, Waktu eksekusi: {iterative_time:.6f} detik\")\n",
        "\n",
        "        # Hitung waktu eksekusi dan hasil dengan fungsi rekursif\n",
        "        print(\"\\nMenghitung rata-rata menggunakan metode rekursif...\")\n",
        "        recursive_time, recursive_result = measure_runtime(average_recursive, populations)\n",
        "        print(f\"Hasil rekursif: {recursive_result:.2f}, Waktu eksekusi: {recursive_time:.6f} detik\")\n",
        "\n",
        "        # Visualisasi hasil waktu eksekusi\n",
        "        print(\"\\nMenampilkan perbandingan waktu eksekusi...\")\n",
        "        plt.figure(figsize=(8, 5))\n",
        "        methods = [\"Iteratif\", \"Rekursif\"]\n",
        "        runtimes = [iterative_time, recursive_time]\n",
        "\n",
        "        plt.bar(methods, runtimes, color=['blue', 'green'])\n",
        "        plt.title(\"Perbandingan Waktu Eksekusi\")\n",
        "        plt.ylabel(\"Waktu Eksekusi (detik)\")\n",
        "        plt.show()\n",
        "\n",
        "# Jalankan program\n",
        "if __name__ == \"__main__\":\n",
        "    main()\n"
      ]
    },
    {
      "cell_type": "markdown",
      "metadata": {
        "id": "PyQlmcD3bc3w"
      },
      "source": [
        "3. Hasil Analisis Perbandingan Kedua Algoritma\n",
        "\n",
        "Berdasarkan grafik hasil pengujian, terlihat perbandingan antara algoritma rekursif dan iteratif dalam memprediksi populasi dunia. Pada grafik pertama, dengan ukuran input kecil (1 hingga 100), baik algoritma rekursif maupun iteratif menunjukkan tren waktu eksekusi yang sangat rendah dan stabil. Untuk kasus ini, algoritma rekursif dan iteratif hampir tidak menunjukkan perbedaan yang signifikan karena overhead proses sangat kecil.\n",
        "\n",
        "Namun, pada grafik kedua, yang memanfaatkan ukuran input besar (100 hingga 10.000), algoritma iteratif menunjukkan waktu eksekusi yang konsisten dan linier seiring bertambahnya ukuran masukan. Sebaliknya, algoritma rekursif mulai menghadapi kendala pada input lebih dari 1.000 tahun, karena batas rekursi Python menyebabkan kegagalan eksekusi (stack overflow).\n",
        "\n",
        "Secara asimtotik, kedua algoritma memiliki kompleksitas waktu , karena keduanya memerlukan operasi yang proporsional dengan jumlah tahun yang diprediksi. Namun, dalam implementasi praktis, algoritma iteratif lebih unggul untuk ukuran input besar karena tidak menghadapi batasan stack. Selain itu, algoritma iteratif juga lebih efisien dalam penggunaan memori dibandingkan dengan algoritma rekursif, yang menggunakan stack rekursi tambahan.\n",
        "\n",
        "Untuk input kecil hingga sedang (di bawah 1.000 tahun), algoritma rekursif dapat digunakan karena lebih intuitif dan memberikan waktu eksekusi yang stabil. Sementara itu, untuk ukuran input besar, algoritma iteratif direkomendasikan karena lebih tahan terhadap batasan sistem dan memiliki waktu eksekusi yang lebih konsisten.\n",
        "\n",
        "4. Kesimpulan\n",
        "\n",
        "Kedua algoritma menghasilkan hasil yang sama untuk prediksi populasi dunia tahun 1960.\n",
        "\n",
        "Iteratif lebih unggul dalam efisiensi memori dan ketahanan terhadap ukuran input besar.\n",
        "\n",
        "Rekursif lebih sederhana secara logika tetapi terbatas oleh batas stack rekursi Python.\n",
        "\n",
        "Disarankan untuk menggunakan algoritma iteratif dalam kasus dengan ukuran input besar, sementara rekursif cocok untuk skenario dengan input kecil hingga sedang.\n",
        "\n",
        "5. Referensi\n",
        "\n",
        "Worldometer. \"World Population Data.\" Diakses dari https://www.worldometers.info/world-population/.\n",
        "\n",
        "Cormen, T. H., Leiserson, C. E., Rivest, R. L., & Stein, C. (2009). Introduction to Algorithms. MIT Press.\n",
        "\n",
        "Python Documentation. \"time - Time access and conversions.\" Diakses dari https://docs.python.org/3/library/time.html.\n",
        "\n"
      ]
    }
  ],
  "metadata": {
    "colab": {
      "provenance": []
    },
    "kernelspec": {
      "display_name": "Python 3",
      "name": "python3"
    },
    "language_info": {
      "name": "python"
    }
  },
  "nbformat": 4,
  "nbformat_minor": 0
}
